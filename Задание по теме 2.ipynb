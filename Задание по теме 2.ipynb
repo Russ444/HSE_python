{
 "cells": [
  {
   "cell_type": "code",
   "execution_count": 18,
   "id": "205fd7a4",
   "metadata": {},
   "outputs": [
    {
     "name": "stdout",
     "output_type": "stream",
     "text": [
      "Введите слово - testing\n",
      "t\n"
     ]
    }
   ],
   "source": [
    "word = input('Введите слово - ')\n",
    "l = len(word) % 2\n",
    "middle = len(word) // 2\n",
    "if l == 0:\n",
    "    print(word[(middle - 1)] + word[middle])\n",
    "else:\n",
    "    print(word[middle])   \n",
    "        "
   ]
  },
  {
   "cell_type": "code",
   "execution_count": 45,
   "id": "434eb2a4",
   "metadata": {},
   "outputs": [
    {
     "name": "stdout",
     "output_type": "stream",
     "text": [
      "Внимание, кто-то может остаться без пары!\n"
     ]
    }
   ],
   "source": [
    "boys = ['Peter', 'Alex', 'John', 'Arthur', 'Richard', 'Michael'] \n",
    "girls = ['Kate', 'Liza', 'Kira', 'Emma', 'Trisha'] \n",
    "boys_sort = sorted(boys)\n",
    "girls_sort = sorted(girls)\n",
    "\n",
    "if len(boys) == len(girls):\n",
    "    print('Идеальные пары:')\n",
    "    for i in range(len(boys_sort)):\n",
    "        print(f'{boys_sort[i]} и {girls_sort[i]}')\n",
    "else:\n",
    "    print('Внимание, кто-то может остаться без пары!')"
   ]
  }
 ],
 "metadata": {
  "kernelspec": {
   "display_name": "Python 3 (ipykernel)",
   "language": "python",
   "name": "python3"
  },
  "language_info": {
   "codemirror_mode": {
    "name": "ipython",
    "version": 3
   },
   "file_extension": ".py",
   "mimetype": "text/x-python",
   "name": "python",
   "nbconvert_exporter": "python",
   "pygments_lexer": "ipython3",
   "version": "3.9.12"
  }
 },
 "nbformat": 4,
 "nbformat_minor": 5
}
