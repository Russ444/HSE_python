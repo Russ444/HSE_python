{
 "cells": [
  {
   "cell_type": "code",
   "execution_count": 21,
   "id": "baa73cb0",
   "metadata": {},
   "outputs": [],
   "source": [
    "from datetime import datetime"
   ]
  },
  {
   "cell_type": "code",
   "execution_count": 7,
   "id": "418ae1eb",
   "metadata": {},
   "outputs": [
    {
     "data": {
      "text/plain": [
       "datetime.datetime(2002, 10, 2, 0, 0)"
      ]
     },
     "execution_count": 7,
     "metadata": {},
     "output_type": "execute_result"
    }
   ],
   "source": [
    "The_Moscow_Times = 'Wednesday, October 2, 2002'\n",
    "The_Moscow_Times_datetime = datetime.strptime(The_Moscow_Times, '%A, %B %d, %Y')\n",
    "\n",
    "The_Moscow_Times_datetime"
   ]
  },
  {
   "cell_type": "code",
   "execution_count": 4,
   "id": "725c3018",
   "metadata": {},
   "outputs": [
    {
     "data": {
      "text/plain": [
       "datetime.datetime(2013, 10, 11, 0, 0)"
      ]
     },
     "execution_count": 4,
     "metadata": {},
     "output_type": "execute_result"
    }
   ],
   "source": [
    "The_Guardian = 'Friday, 11.10.13'\n",
    "The_Guardian_datetime = datetime.strptime(The_Guardian, '%A, %d.%m.%y')\n",
    "\n",
    "The_Guardian_datetime"
   ]
  },
  {
   "cell_type": "code",
   "execution_count": 6,
   "id": "a2a661ac",
   "metadata": {},
   "outputs": [
    {
     "data": {
      "text/plain": [
       "datetime.datetime(1977, 8, 18, 0, 0)"
      ]
     },
     "execution_count": 6,
     "metadata": {},
     "output_type": "execute_result"
    }
   ],
   "source": [
    "Daily_News = 'Thursday, 18 August 1977'\n",
    "Daily_News_datetime = datetime.strptime(Daily_News, '%A, %d %B %Y')\n",
    "\n",
    "Daily_News_datetime"
   ]
  },
  {
   "cell_type": "code",
   "execution_count": 24,
   "id": "d5fa71ae",
   "metadata": {},
   "outputs": [
    {
     "name": "stdout",
     "output_type": "stream",
     "text": [
      "['2018-12-01', '2018-12-02', '2018-12-03', '2018-12-04', '2018-12-05', '2018-12-06', '2018-12-07', '2018-12-08', '2018-12-09']\n"
     ]
    }
   ],
   "source": [
    "def date_range(start_date, end_date):\n",
    "    from datetime import datetime, timedelta\n",
    "    list_date = []\n",
    "    try:\n",
    "        datetime_start_date = datetime.strptime(start_date, '%Y-%m-%d')\n",
    "        datetime_end_date = datetime.strptime(end_date, '%Y-%m-%d')\n",
    "        \n",
    "        if datetime_start_date > datetime_end_date:\n",
    "            print(list_date)\n",
    "        else:\n",
    "            list_date = [datetime.strftime(datetime_start_date, '%Y-%m-%d')]\n",
    "            while datetime_start_date < datetime_end_date:\n",
    "                datetime_start_date += timedelta(days=1)\n",
    "                print_dt = datetime.strftime(datetime_start_date,'%Y-%m-%d')\n",
    "                list_date.append(print_dt)\n",
    "            print(list_date)\n",
    "    except:\n",
    "        print(list_date)\n",
    "    \n",
    "\n",
    "date_range(start_date='2018-12-01', end_date='2018-12-09')"
   ]
  },
  {
   "cell_type": "code",
   "execution_count": null,
   "id": "01783cdc",
   "metadata": {},
   "outputs": [],
   "source": []
  }
 ],
 "metadata": {
  "kernelspec": {
   "display_name": "Python 3 (ipykernel)",
   "language": "python",
   "name": "python3"
  },
  "language_info": {
   "codemirror_mode": {
    "name": "ipython",
    "version": 3
   },
   "file_extension": ".py",
   "mimetype": "text/x-python",
   "name": "python",
   "nbconvert_exporter": "python",
   "pygments_lexer": "ipython3",
   "version": "3.9.12"
  }
 },
 "nbformat": 4,
 "nbformat_minor": 5
}
