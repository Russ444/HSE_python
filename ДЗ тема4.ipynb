{
 "cells": [
  {
   "cell_type": "code",
   "execution_count": 13,
   "id": "bf5d528c",
   "metadata": {},
   "outputs": [
    {
     "name": "stdout",
     "output_type": "stream",
     "text": [
      "\n",
      "        Добро пожаловать в программу автоматизации работы секретаря!!!\n",
      "        Для продолжения работы введите одну из следующих команд:\n",
      "        p - для поиска владельца документа по его номеру;\n",
      "        s - для поиска места хранения документа по его номеру;\n",
      "        q - для завершения работы программы\n",
      "        \n",
      "Введите команду: p\n",
      "Введите номер документа: 10006\n",
      "Владелец документа: Аристарх Павлов\n",
      "Введите команду: p\n",
      "Введите номер документа: 1111\n",
      "Владелец не найден\n",
      "Введите команду: s\n",
      "Введите номер документа: 10006\n",
      "Документ хранится на полке 2\n",
      "Введите команду: s\n",
      "Введите номер документа: 1111\n",
      "Документ не найден\n",
      "Введите команду: q\n",
      "Программа завершена\n"
     ]
    }
   ],
   "source": [
    "documents = [\n",
    " {'type': 'passport', 'number': '2207 876234', 'name': 'Василий Гупкин'},\n",
    " {'type': 'invoice', 'number': '11-2', 'name': 'Геннадий Покемонов'},\n",
    " {'type': 'insurance', 'number': '10006', 'name': 'Аристарх Павлов'}\n",
    "]\n",
    "\n",
    "directories = {\n",
    " '1': ['2207 876234', '11-2'],\n",
    " '2': ['10006'],\n",
    " '3': []\n",
    "}\n",
    "\n",
    "def owner(number):\n",
    "    \"\"\"\n",
    "    Функция предназначена для определения владельца документа по его номеру\n",
    "    \"\"\"\n",
    "    owner_name = ''\n",
    "    for i in documents:\n",
    "        if i['number'] == number:\n",
    "            owner_name = ('Владелец документа: ' + i['name'])\n",
    "    if owner_name == '':\n",
    "        owner_name = 'Владелец не найден'\n",
    "    return owner_name\n",
    "\n",
    "def shelf(number):\n",
    "    \"\"\"\n",
    "    Функция предназначена для определения места хранения документа по его номеру\n",
    "    \"\"\"\n",
    "    shelf_number = ''\n",
    "    for key, value in directories.items():\n",
    "        if number in value:\n",
    "            shelf_number = ('Документ хранится на полке ' + key)\n",
    "    if shelf_number == '':\n",
    "        shelf_number = 'Документ не найден'\n",
    "    return shelf_number\n",
    "\n",
    "def main():\n",
    "    print('''\n",
    "        Добро пожаловать в программу автоматизации работы секретаря!!!\n",
    "        Для продолжения работы введите одну из следующих команд:\n",
    "        p - для поиска владельца документа по его номеру;\n",
    "        s - для поиска места хранения документа по его номеру;\n",
    "        q - для завершения работы программы\n",
    "        ''')\n",
    "    q = 0\n",
    "    while q < 1:\n",
    "        \n",
    "        team = input('Введите команду: ')\n",
    "        if team == 'p':\n",
    "            number = input('Введите номер документа: ')\n",
    "            print(owner(number))\n",
    "        elif team == 's':\n",
    "            number = input('Введите номер документа: ')\n",
    "            print(shelf(number))\n",
    "        elif team == 'q':\n",
    "            print('Программа завершена')\n",
    "            break\n",
    "        else:\n",
    "            print('Неверная команда')\n",
    "main()\n"
   ]
  },
  {
   "cell_type": "code",
   "execution_count": null,
   "id": "00e7d6b9",
   "metadata": {},
   "outputs": [],
   "source": []
  },
  {
   "cell_type": "code",
   "execution_count": null,
   "id": "16c1b370",
   "metadata": {},
   "outputs": [],
   "source": []
  },
  {
   "cell_type": "code",
   "execution_count": 4,
   "id": "920b03a8",
   "metadata": {},
   "outputs": [
    {
     "name": "stdout",
     "output_type": "stream",
     "text": [
      "Введите команду: p\n",
      "Введите номер документа: 10006\n"
     ]
    },
    {
     "ename": "NameError",
     "evalue": "name 'owner' is not defined",
     "output_type": "error",
     "traceback": [
      "\u001b[1;31m---------------------------------------------------------------------------\u001b[0m",
      "\u001b[1;31mNameError\u001b[0m                                 Traceback (most recent call last)",
      "Input \u001b[1;32mIn [4]\u001b[0m, in \u001b[0;36m<cell line: 15>\u001b[1;34m()\u001b[0m\n\u001b[0;32m     13\u001b[0m         \u001b[38;5;28;01melse\u001b[39;00m:\n\u001b[0;32m     14\u001b[0m             \u001b[38;5;28mprint\u001b[39m(\u001b[38;5;124m'\u001b[39m\u001b[38;5;124mНеверная команда\u001b[39m\u001b[38;5;124m'\u001b[39m)\n\u001b[1;32m---> 15\u001b[0m \u001b[43mmain\u001b[49m\u001b[43m(\u001b[49m\u001b[43m)\u001b[49m\n",
      "Input \u001b[1;32mIn [4]\u001b[0m, in \u001b[0;36mmain\u001b[1;34m()\u001b[0m\n\u001b[0;32m      5\u001b[0m \u001b[38;5;28;01mif\u001b[39;00m team \u001b[38;5;241m==\u001b[39m \u001b[38;5;124m'\u001b[39m\u001b[38;5;124mp\u001b[39m\u001b[38;5;124m'\u001b[39m:\n\u001b[0;32m      6\u001b[0m     number \u001b[38;5;241m=\u001b[39m \u001b[38;5;28minput\u001b[39m(\u001b[38;5;124m'\u001b[39m\u001b[38;5;124mВведите номер документа: \u001b[39m\u001b[38;5;124m'\u001b[39m)\n\u001b[1;32m----> 7\u001b[0m     \u001b[38;5;28mprint\u001b[39m(\u001b[43mowner\u001b[49m(number))\n\u001b[0;32m      8\u001b[0m \u001b[38;5;28;01melif\u001b[39;00m team \u001b[38;5;241m==\u001b[39m \u001b[38;5;124m'\u001b[39m\u001b[38;5;124ms\u001b[39m\u001b[38;5;124m'\u001b[39m:\n\u001b[0;32m      9\u001b[0m     number \u001b[38;5;241m=\u001b[39m \u001b[38;5;28minput\u001b[39m(\u001b[38;5;124m'\u001b[39m\u001b[38;5;124mВведите номер документа: \u001b[39m\u001b[38;5;124m'\u001b[39m)\n",
      "\u001b[1;31mNameError\u001b[0m: name 'owner' is not defined"
     ]
    }
   ],
   "source": []
  },
  {
   "cell_type": "code",
   "execution_count": 3,
   "id": "40405496",
   "metadata": {},
   "outputs": [
    {
     "ename": "NameError",
     "evalue": "name 'main' is not defined",
     "output_type": "error",
     "traceback": [
      "\u001b[1;31m---------------------------------------------------------------------------\u001b[0m",
      "\u001b[1;31mNameError\u001b[0m                                 Traceback (most recent call last)",
      "Input \u001b[1;32mIn [3]\u001b[0m, in \u001b[0;36m<cell line: 1>\u001b[1;34m()\u001b[0m\n\u001b[1;32m----> 1\u001b[0m \u001b[43mmain\u001b[49m()\n",
      "\u001b[1;31mNameError\u001b[0m: name 'main' is not defined"
     ]
    }
   ],
   "source": []
  },
  {
   "cell_type": "code",
   "execution_count": null,
   "id": "7524a29c",
   "metadata": {},
   "outputs": [],
   "source": []
  }
 ],
 "metadata": {
  "kernelspec": {
   "display_name": "Python 3 (ipykernel)",
   "language": "python",
   "name": "python3"
  },
  "language_info": {
   "codemirror_mode": {
    "name": "ipython",
    "version": 3
   },
   "file_extension": ".py",
   "mimetype": "text/x-python",
   "name": "python",
   "nbconvert_exporter": "python",
   "pygments_lexer": "ipython3",
   "version": "3.9.12"
  }
 },
 "nbformat": 4,
 "nbformat_minor": 5
}
