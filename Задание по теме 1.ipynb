{
 "cells": [
  {
   "cell_type": "code",
   "execution_count": 40,
   "id": "7c54a758",
   "metadata": {},
   "outputs": [
    {
     "name": "stdout",
     "output_type": "stream",
     "text": [
      "Введите год: 2019\n",
      "Обычный год\n"
     ]
    }
   ],
   "source": [
    "year = int(input('Введите год: '))\n",
    "if(year % 4 == 0 and year % 100 != 0) or year % 400 == 0:\n",
    "    print('Високосный год')\n",
    "else:\n",
    "    print('Обычный год')"
   ]
  },
  {
   "cell_type": "code",
   "execution_count": 70,
   "id": "9f5dba9f",
   "metadata": {},
   "outputs": [
    {
     "name": "stdout",
     "output_type": "stream",
     "text": [
      "Введите номер проездного билета: 123321\n",
      "Счастливый билет\n"
     ]
    }
   ],
   "source": [
    "number = input('Введите номер проездного билета: ')\n",
    "if len(number) != 6:\n",
    "    print('Введен невеный номер проездного билета')\n",
    "else:\n",
    "    number = int(number)\n",
    "    figure_1 = number // 100000\n",
    "    figure_2 = number // 10000 % 10\n",
    "    figure_3 = number // 1000 % 10\n",
    "    figure_4 = number % 1000 // 100\n",
    "    figure_5 = number % 100 // 10\n",
    "    figure_6 = number % 10\n",
    "    if (figure_1 + figure_2 + figure_3) == (figure_4 + figure_5 + figure_6):\n",
    "        print('Счастливый билет')\n",
    "    else:\n",
    "        print('Несчастливый билет')"
   ]
  }
 ],
 "metadata": {
  "kernelspec": {
   "display_name": "Python 3 (ipykernel)",
   "language": "python",
   "name": "python3"
  },
  "language_info": {
   "codemirror_mode": {
    "name": "ipython",
    "version": 3
   },
   "file_extension": ".py",
   "mimetype": "text/x-python",
   "name": "python",
   "nbconvert_exporter": "python",
   "pygments_lexer": "ipython3",
   "version": "3.9.12"
  }
 },
 "nbformat": 4,
 "nbformat_minor": 5
}
