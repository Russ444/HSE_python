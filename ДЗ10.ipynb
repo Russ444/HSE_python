{
 "cells": [
  {
   "cell_type": "code",
   "execution_count": 1,
   "id": "e633eafd",
   "metadata": {},
   "outputs": [
    {
     "name": "stdout",
     "output_type": "stream",
     "text": [
      "Requirement already satisfied: ipytest in c:\\users\\sonik\\anaconda3\\lib\\site-packages (0.13.0)\n",
      "Requirement already satisfied: packaging in c:\\users\\sonik\\anaconda3\\lib\\site-packages (from ipytest) (21.3)\n",
      "Requirement already satisfied: pytest>=5.4 in c:\\users\\sonik\\anaconda3\\lib\\site-packages (from ipytest) (7.1.1)\n",
      "Requirement already satisfied: ipython in c:\\users\\sonik\\anaconda3\\lib\\site-packages (from ipytest) (8.2.0)\n",
      "Requirement already satisfied: attrs>=19.2.0 in c:\\users\\sonik\\anaconda3\\lib\\site-packages (from pytest>=5.4->ipytest) (21.4.0)\n",
      "Requirement already satisfied: iniconfig in c:\\users\\sonik\\anaconda3\\lib\\site-packages (from pytest>=5.4->ipytest) (1.1.1)\n",
      "Requirement already satisfied: pluggy<2.0,>=0.12 in c:\\users\\sonik\\anaconda3\\lib\\site-packages (from pytest>=5.4->ipytest) (1.0.0)\n",
      "Requirement already satisfied: py>=1.8.2 in c:\\users\\sonik\\anaconda3\\lib\\site-packages (from pytest>=5.4->ipytest) (1.11.0)\n",
      "Requirement already satisfied: tomli>=1.0.0 in c:\\users\\sonik\\anaconda3\\lib\\site-packages (from pytest>=5.4->ipytest) (1.2.2)\n",
      "Requirement already satisfied: atomicwrites>=1.0 in c:\\users\\sonik\\anaconda3\\lib\\site-packages (from pytest>=5.4->ipytest) (1.4.0)\n",
      "Requirement already satisfied: colorama in c:\\users\\sonik\\anaconda3\\lib\\site-packages (from pytest>=5.4->ipytest) (0.4.4)\n",
      "Requirement already satisfied: setuptools>=18.5 in c:\\users\\sonik\\anaconda3\\lib\\site-packages (from ipython->ipytest) (61.2.0)\n",
      "Requirement already satisfied: decorator in c:\\users\\sonik\\anaconda3\\lib\\site-packages (from ipython->ipytest) (5.1.1)\n",
      "Requirement already satisfied: stack-data in c:\\users\\sonik\\anaconda3\\lib\\site-packages (from ipython->ipytest) (0.2.0)\n",
      "Requirement already satisfied: matplotlib-inline in c:\\users\\sonik\\anaconda3\\lib\\site-packages (from ipython->ipytest) (0.1.2)\n",
      "Requirement already satisfied: traitlets>=5 in c:\\users\\sonik\\anaconda3\\lib\\site-packages (from ipython->ipytest) (5.1.1)\n",
      "Requirement already satisfied: jedi>=0.16 in c:\\users\\sonik\\anaconda3\\lib\\site-packages (from ipython->ipytest) (0.18.1)\n",
      "Requirement already satisfied: prompt-toolkit!=3.0.0,!=3.0.1,<3.1.0,>=2.0.0 in c:\\users\\sonik\\anaconda3\\lib\\site-packages (from ipython->ipytest) (3.0.20)\n",
      "Requirement already satisfied: backcall in c:\\users\\sonik\\anaconda3\\lib\\site-packages (from ipython->ipytest) (0.2.0)\n",
      "Requirement already satisfied: pickleshare in c:\\users\\sonik\\anaconda3\\lib\\site-packages (from ipython->ipytest) (0.7.5)\n",
      "Requirement already satisfied: pygments>=2.4.0 in c:\\users\\sonik\\anaconda3\\lib\\site-packages (from ipython->ipytest) (2.11.2)\n",
      "Requirement already satisfied: parso<0.9.0,>=0.8.0 in c:\\users\\sonik\\anaconda3\\lib\\site-packages (from jedi>=0.16->ipython->ipytest) (0.8.3)\n",
      "Requirement already satisfied: wcwidth in c:\\users\\sonik\\anaconda3\\lib\\site-packages (from prompt-toolkit!=3.0.0,!=3.0.1,<3.1.0,>=2.0.0->ipython->ipytest) (0.2.5)\n",
      "Requirement already satisfied: pyparsing!=3.0.5,>=2.0.2 in c:\\users\\sonik\\anaconda3\\lib\\site-packages (from packaging->ipytest) (3.0.4)\n",
      "Requirement already satisfied: pure-eval in c:\\users\\sonik\\anaconda3\\lib\\site-packages (from stack-data->ipython->ipytest) (0.2.2)\n",
      "Requirement already satisfied: executing in c:\\users\\sonik\\anaconda3\\lib\\site-packages (from stack-data->ipython->ipytest) (0.8.3)\n",
      "Requirement already satisfied: asttokens in c:\\users\\sonik\\anaconda3\\lib\\site-packages (from stack-data->ipython->ipytest) (2.0.5)\n",
      "Requirement already satisfied: six in c:\\users\\sonik\\anaconda3\\lib\\site-packages (from asttokens->stack-data->ipython->ipytest) (1.16.0)\n",
      "Note: you may need to restart the kernel to use updated packages.\n"
     ]
    }
   ],
   "source": [
    "pip install ipytest"
   ]
  },
  {
   "cell_type": "code",
   "execution_count": 2,
   "id": "534204be",
   "metadata": {},
   "outputs": [
    {
     "name": "stdout",
     "output_type": "stream",
     "text": [
      "Requirement already satisfied: pytest-mock in c:\\users\\sonik\\anaconda3\\lib\\site-packages (3.10.0)Note: you may need to restart the kernel to use updated packages.\n",
      "Requirement already satisfied: pytest>=5.0 in c:\\users\\sonik\\anaconda3\\lib\\site-packages (from pytest-mock) (7.1.1)\n",
      "\n",
      "Requirement already satisfied: attrs>=19.2.0 in c:\\users\\sonik\\anaconda3\\lib\\site-packages (from pytest>=5.0->pytest-mock) (21.4.0)\n",
      "Requirement already satisfied: iniconfig in c:\\users\\sonik\\anaconda3\\lib\\site-packages (from pytest>=5.0->pytest-mock) (1.1.1)\n",
      "Requirement already satisfied: packaging in c:\\users\\sonik\\anaconda3\\lib\\site-packages (from pytest>=5.0->pytest-mock) (21.3)\n",
      "Requirement already satisfied: pluggy<2.0,>=0.12 in c:\\users\\sonik\\anaconda3\\lib\\site-packages (from pytest>=5.0->pytest-mock) (1.0.0)\n",
      "Requirement already satisfied: py>=1.8.2 in c:\\users\\sonik\\anaconda3\\lib\\site-packages (from pytest>=5.0->pytest-mock) (1.11.0)\n",
      "Requirement already satisfied: tomli>=1.0.0 in c:\\users\\sonik\\anaconda3\\lib\\site-packages (from pytest>=5.0->pytest-mock) (1.2.2)\n",
      "Requirement already satisfied: atomicwrites>=1.0 in c:\\users\\sonik\\anaconda3\\lib\\site-packages (from pytest>=5.0->pytest-mock) (1.4.0)\n",
      "Requirement already satisfied: colorama in c:\\users\\sonik\\anaconda3\\lib\\site-packages (from pytest>=5.0->pytest-mock) (0.4.4)\n",
      "Requirement already satisfied: pyparsing!=3.0.5,>=2.0.2 in c:\\users\\sonik\\anaconda3\\lib\\site-packages (from packaging->pytest>=5.0->pytest-mock) (3.0.4)\n"
     ]
    }
   ],
   "source": [
    "pip install pytest-mock"
   ]
  },
  {
   "cell_type": "code",
   "execution_count": 4,
   "id": "41290989",
   "metadata": {},
   "outputs": [],
   "source": [
    "import pytest\n",
    "import ipytest\n",
    "import requests\n",
    "import json\n",
    "ipytest.autoconfig(addopts=[\"-v\"])"
   ]
  },
  {
   "cell_type": "code",
   "execution_count": 5,
   "id": "525cbe64",
   "metadata": {},
   "outputs": [
    {
     "name": "stdout",
     "output_type": "stream",
     "text": [
      "aba\n"
     ]
    },
    {
     "data": {
      "text/plain": [
       "'Palindrome'"
      ]
     },
     "execution_count": 5,
     "metadata": {},
     "output_type": "execute_result"
    }
   ],
   "source": [
    "word = input()\n",
    "def palindrome(word: str):\n",
    "    if word == \"\".join(reversed(word)) :\n",
    "        return \"Palindrome\"\n",
    "    else:\n",
    "        return \"Not Palindrome\"\n",
    "\n",
    "palindrome(word)"
   ]
  },
  {
   "cell_type": "code",
   "execution_count": 6,
   "id": "f33c151a",
   "metadata": {},
   "outputs": [
    {
     "name": "stdout",
     "output_type": "stream",
     "text": [
      "======================================= test session starts =======================================\n",
      "platform win32 -- Python 3.9.12, pytest-7.1.1, pluggy-1.0.0 -- C:\\Users\\Sonik\\anaconda3\\python.exe\n",
      "cachedir: .pytest_cache\n",
      "rootdir: C:\\Users\\Sonik\\Desktop\\Магистратура\\Питон\\Домашки\n",
      "plugins: anyio-3.5.0, mock-3.10.0\n",
      "collecting ... collected 7 items\n",
      "\n",
      "t_5ff3b62b3df0470eae0f7314444c1ffb.py::test_palindrome[aba-Palindrome] PASSED                [ 14%]\n",
      "t_5ff3b62b3df0470eae0f7314444c1ffb.py::test_palindrome[\\u044e\\u044e\\u044e-Palindrome] PASSED [ 28%]\n",
      "t_5ff3b62b3df0470eae0f7314444c1ffb.py::test_palindrome[1245123-Not Palindrome] PASSED        [ 42%]\n",
      "t_5ff3b62b3df0470eae0f7314444c1ffb.py::test_palindrome[\\u0444\\u0431a-Not Palindrome] PASSED  [ 57%]\n",
      "t_5ff3b62b3df0470eae0f7314444c1ffb.py::test_palindrome[@aba@-Palindrome] PASSED              [ 71%]\n",
      "t_5ff3b62b3df0470eae0f7314444c1ffb.py::test_palindrome[@aba-Not Palindrome] PASSED           [ 85%]\n",
      "t_5ff3b62b3df0470eae0f7314444c1ffb.py::test_palindrome[121-Palindrome] PASSED                [100%]\n",
      "\n",
      "======================================== 7 passed in 0.12s ========================================\n"
     ]
    }
   ],
   "source": [
    "%%ipytest\n",
    "\n",
    "@pytest.mark.parametrize(\"word, expected\", [(\"aba\", \"Palindrome\"), (\"ююю\",  \"Palindrome\"), \n",
    "(\"1245123\", \"Not Palindrome\"), (\"фбa\", \"Not Palindrome\"), (\"@aba@\", \"Palindrome\"), \n",
    "(\"@aba\", \"Not Palindrome\"), (\"121\", \"Palindrome\")])\n",
    "def test_palindrome(word, expected):\n",
    "    assert palindrome(word) == expected"
   ]
  },
  {
   "cell_type": "code",
   "execution_count": 7,
   "id": "4c962a80",
   "metadata": {},
   "outputs": [],
   "source": [
    "class Employee:\n",
    "    def __init__(self, name, seniority, awards):\n",
    "        self.name = name\n",
    "        self.seniority = seniority\n",
    "        self.awards = awards\n",
    "        self.grade = 1\n",
    "    \n",
    "    def grade_up(self):\n",
    "        \"\"\"Повышает уровень сотрудника\"\"\"\n",
    "        self.grade += 1\n",
    "    \n",
    "    def publish_grade(self):\n",
    "        \"\"\"Публикация результатов аккредитации сотрудников\"\"\"\n",
    "        print(self.name, self.grade)\n",
    "        \n",
    "    def check_if_it_is_time_for_upgrade(self):\n",
    "        pass\n",
    "\n",
    "class Developer(Employee):\n",
    "    def __init__(self, name, seniority, awards=0):\n",
    "        super().__init__(name, seniority, awards=0)\n",
    "    \n",
    "    def check_if_it_is_time_for_upgrade(self):\n",
    "        # для каждой аккредитации увеличиваем счетчик на 1\n",
    "        # пока считаем, что все разработчики проходят аккредитацию\n",
    "        self.seniority += 1\n",
    "        \n",
    "        # условие повышения сотрудника из презентации\n",
    "        if self.seniority % 5 == 0:\n",
    "            self.grade_up()\n",
    "        \n",
    "        # публикация результатов\n",
    "        return self.publish_grade()        \n",
    "        \n",
    "        \n",
    "class Designer(Employee):\n",
    "    def __init__(self, name, seniority, awards):\n",
    "        super().__init__(name, seniority, awards)\n",
    "    \n",
    "    def check_if_it_is_time_for_upgrade(self):\n",
    "        if self.seniority == 0:\n",
    "            self.seniority = 1 + self.awards * 2\n",
    "        else:\n",
    "            self.seniority += 1\n",
    "            \n",
    "        if self.seniority % 7 == 0:\n",
    "            self.grade_up()\n",
    "        \n",
    "        return self.publish_grade()   "
   ]
  },
  {
   "cell_type": "code",
   "execution_count": 8,
   "id": "42ff9ce3",
   "metadata": {},
   "outputs": [
    {
     "name": "stdout",
     "output_type": "stream",
     "text": [
      "======================================= test session starts =======================================\n",
      "platform win32 -- Python 3.9.12, pytest-7.1.1, pluggy-1.0.0 -- C:\\Users\\Sonik\\anaconda3\\python.exe\n",
      "cachedir: .pytest_cache\n",
      "rootdir: C:\\Users\\Sonik\\Desktop\\Магистратура\\Питон\\Домашки\n",
      "plugins: anyio-3.5.0, mock-3.10.0\n",
      "collecting ... collected 4 items\n",
      "\n",
      "t_5ff3b62b3df0470eae0f7314444c1ffb.py::test_seniority_designer PASSED                        [ 25%]\n",
      "t_5ff3b62b3df0470eae0f7314444c1ffb.py::test_seniority_designer2 PASSED                       [ 50%]\n",
      "t_5ff3b62b3df0470eae0f7314444c1ffb.py::test_seniority_developer PASSED                       [ 75%]\n",
      "t_5ff3b62b3df0470eae0f7314444c1ffb.py::test_seniority_developer2 PASSED                      [100%]\n",
      "\n",
      "======================================== 4 passed in 0.07s ========================================\n"
     ]
    }
   ],
   "source": [
    "%%ipytest\n",
    "\n",
    "test_name = 'Test_username'\n",
    "test_awards = 2\n",
    "\n",
    "@pytest.fixture\n",
    "def designer():\n",
    "    def init_customer(sen):\n",
    "        return Designer(test_name,seniority=sen,awards=test_awards)\n",
    "    return init_customer\n",
    "\n",
    "@pytest.fixture\n",
    "def developer():\n",
    "    def init_customer(sen):\n",
    "        return Developer(test_name,seniority=sen,awards=test_awards)\n",
    "    return init_customer\n",
    "\n",
    "def test_seniority_designer(designer):\n",
    "    data = designer(4)\n",
    "    assert data.grade == 1\n",
    "  \n",
    "def test_seniority_designer2(designer):\n",
    "    data = designer(6)\n",
    "    data.check_if_it_is_time_for_upgrade()\n",
    "    assert data.grade == 2\n",
    "\n",
    "def test_seniority_developer(developer):\n",
    "    data = developer(2)\n",
    "    assert data.grade == 1\n",
    "  \n",
    "def test_seniority_developer2(developer):\n",
    "    data = developer(4)\n",
    "    data.check_if_it_is_time_for_upgrade()\n",
    "    assert data.grade == 2"
   ]
  },
  {
   "cell_type": "code",
   "execution_count": 11,
   "id": "c7464bd6",
   "metadata": {},
   "outputs": [],
   "source": [
    "data = '{    \"Date\": \"2022-11-15T11:30:00+03:00\",    \"PreviousDate\": \"2022-11-12T11:30:00+03:00\",    \"PreviousURL\": \"\\/\\/www.cbr-xml-daily.ru\\/archive\\/2022\\/11\\/12\\/daily_json.js\",    \"Timestamp\": \"2022-11-14T17:00:00+03:00\",    \"Valute\": {        \"AUD\": {            \"ID\": \"R01010\",            \"NumCode\": \"036\",            \"CharCode\": \"AUD\",            \"Nominal\": 1,            \"Name\": \"Австралийский доллар\",            \"Value\": 40.3581,            \"Previous\": 39.8703        },        \"AZN\": {            \"ID\": \"R01020A\",            \"NumCode\": \"944\",            \"CharCode\": \"AZN\",            \"Nominal\": 1,            \"Name\": \"Азербайджанский манат\",            \"Value\": 35.5284,            \"Previous\": 35.4223        },        \"GBP\": {            \"ID\": \"R01035\",            \"NumCode\": \"826\",            \"CharCode\": \"GBP\",            \"Nominal\": 1,            \"Name\": \"Фунт стерлингов Соединенного королевства\",            \"Value\": 71.1128,            \"Previous\": 70.3225        },        \"AMD\": {            \"ID\": \"R01060\",            \"NumCode\": \"051\",            \"CharCode\": \"AMD\",            \"Nominal\": 100,            \"Name\": \"Армянских драмов\",            \"Value\": 15.2548,            \"Previous\": 15.2019        },        \"BYN\": {            \"ID\": \"R01090B\",            \"NumCode\": \"933\",            \"CharCode\": \"BYN\",            \"Nominal\": 1,            \"Name\": \"Белорусский рубль\",            \"Value\": 24.9157,            \"Previous\": 24.8137        },        \"BGN\": {            \"ID\": \"R01100\",            \"NumCode\": \"975\",            \"CharCode\": \"BGN\",            \"Nominal\": 1,            \"Name\": \"Болгарский лев\",            \"Value\": 31.8321,            \"Previous\": 30.6468        },        \"BRL\": {            \"ID\": \"R01115\",            \"NumCode\": \"986\",            \"CharCode\": \"BRL\",            \"Nominal\": 1,            \"Name\": \"Бразильский реал\",            \"Value\": 11.3856,            \"Previous\": 11.3488        },        \"HUF\": {            \"ID\": \"R01135\",            \"NumCode\": \"348\",            \"CharCode\": \"HUF\",            \"Nominal\": 100,            \"Name\": \"Венгерских форинтов\",            \"Value\": 15.3361,            \"Previous\": 15.3207        },        \"HKD\": {            \"ID\": \"R01200\",            \"NumCode\": \"344\",            \"CharCode\": \"HKD\",            \"Nominal\": 10,            \"Name\": \"Гонконгских долларов\",            \"Value\": 77.2059,            \"Previous\": 76.9656        },        \"DKK\": {            \"ID\": \"R01215\",            \"NumCode\": \"208\",            \"CharCode\": \"DKK\",            \"Nominal\": 10,            \"Name\": \"Датских крон\",            \"Value\": 83.6992,            \"Previous\": 80.586        },        \"USD\": {            \"ID\": \"R01235\",            \"NumCode\": \"840\",            \"CharCode\": \"USD\",            \"Nominal\": 1,            \"Name\": \"Доллар США\",            \"Value\": 60.3982,            \"Previous\": 60.2179        },        \"EUR\": {            \"ID\": \"R01239\",            \"NumCode\": \"978\",            \"CharCode\": \"EUR\",            \"Nominal\": 1,            \"Name\": \"Евро\",            \"Value\": 62.1554,            \"Previous\": 61.5416        },        \"INR\": {            \"ID\": \"R01270\",            \"NumCode\": \"356\",            \"CharCode\": \"INR\",            \"Nominal\": 100,            \"Name\": \"Индийских рупий\",            \"Value\": 73.4671,            \"Previous\": 72.966        },        \"KZT\": {            \"ID\": \"R01335\",            \"NumCode\": \"398\",            \"CharCode\": \"KZT\",            \"Nominal\": 100,            \"Name\": \"Казахстанских тенге\",            \"Value\": 13.0729,            \"Previous\": 12.8281        },        \"CAD\": {            \"ID\": \"R01350\",            \"NumCode\": \"124\",            \"CharCode\": \"CAD\",            \"Nominal\": 1,            \"Name\": \"Канадский доллар\",            \"Value\": 45.1474,            \"Previous\": 45.0126        },        \"KGS\": {            \"ID\": \"R01370\",            \"NumCode\": \"417\",            \"CharCode\": \"KGS\",            \"Nominal\": 100,            \"Name\": \"Киргизских сомов\",            \"Value\": 71.5774,            \"Previous\": 71.4323        },        \"CNY\": {            \"ID\": \"R01375\",            \"NumCode\": \"156\",            \"CharCode\": \"CNY\",            \"Nominal\": 10,            \"Name\": \"Китайских юаней\",            \"Value\": 85.4248,            \"Previous\": 84.4637        },        \"MDL\": {            \"ID\": \"R01500\",            \"NumCode\": \"498\",            \"CharCode\": \"MDL\",            \"Nominal\": 10,            \"Name\": \"Молдавских леев\",            \"Value\": 31.3931,            \"Previous\": 31.2715        },        \"NOK\": {            \"ID\": \"R01535\",            \"NumCode\": \"578\",            \"CharCode\": \"NOK\",            \"Nominal\": 10,            \"Name\": \"Норвежских крон\",            \"Value\": 60.2266,            \"Previous\": 60.3446        },        \"PLN\": {            \"ID\": \"R01565\",            \"NumCode\": \"985\",            \"CharCode\": \"PLN\",            \"Nominal\": 1,            \"Name\": \"Польский злотый\",            \"Value\": 13.2371,            \"Previous\": 13.2408        },        \"RON\": {            \"ID\": \"R01585F\",            \"NumCode\": \"946\",            \"CharCode\": \"RON\",            \"Nominal\": 1,            \"Name\": \"Румынский лей\",            \"Value\": 12.6919,            \"Previous\": 12.6391        },        \"XDR\": {            \"ID\": \"R01589\",            \"NumCode\": \"960\",            \"CharCode\": \"XDR\",            \"Nominal\": 1,            \"Name\": \"СДР (специальные права заимствования)\",            \"Value\": 79.0673,            \"Previous\": 77.3806        },        \"SGD\": {            \"ID\": \"R01625\",            \"NumCode\": \"702\",            \"CharCode\": \"SGD\",            \"Nominal\": 1,            \"Name\": \"Сингапурский доллар\",            \"Value\": 44.0284,            \"Previous\": 43.5132        },        \"TJS\": {            \"ID\": \"R01670\",            \"NumCode\": \"972\",            \"CharCode\": \"TJS\",            \"Nominal\": 10,            \"Name\": \"Таджикских сомони\",            \"Value\": 59.1461,            \"Previous\": 58.9672        },        \"TRY\": {            \"ID\": \"R01700J\",            \"NumCode\": \"949\",            \"CharCode\": \"TRY\",            \"Nominal\": 10,            \"Name\": \"Турецких лир\",            \"Value\": 32.598,            \"Previous\": 32.3822        },        \"TMT\": {            \"ID\": \"R01710A\",            \"NumCode\": \"934\",            \"CharCode\": \"TMT\",            \"Nominal\": 1,            \"Name\": \"Новый туркменский манат\",            \"Value\": 17.2566,            \"Previous\": 17.2051        },        \"UZS\": {            \"ID\": \"R01717\",            \"NumCode\": \"860\",            \"CharCode\": \"UZS\",            \"Nominal\": 10000,            \"Name\": \"Узбекских сумов\",            \"Value\": 53.8938,            \"Previous\": 53.7907        },        \"UAH\": {            \"ID\": \"R01720\",            \"NumCode\": \"980\",            \"CharCode\": \"UAH\",            \"Nominal\": 10,            \"Name\": \"Украинских гривен\",            \"Value\": 16.354,            \"Previous\": 16.304        },        \"CZK\": {            \"ID\": \"R01760\",            \"NumCode\": \"203\",            \"CharCode\": \"CZK\",            \"Nominal\": 10,            \"Name\": \"Чешских крон\",            \"Value\": 25.6414,            \"Previous\": 24.6038        },        \"SEK\": {            \"ID\": \"R01770\",            \"NumCode\": \"752\",            \"CharCode\": \"SEK\",            \"Nominal\": 10,            \"Name\": \"Шведских крон\",            \"Value\": 58.1322,            \"Previous\": 57.1235        },        \"CHF\": {            \"ID\": \"R01775\",            \"NumCode\": \"756\",            \"CharCode\": \"CHF\",            \"Nominal\": 1,            \"Name\": \"Швейцарский франк\",            \"Value\": 63.8661,            \"Previous\": 62.7728        },        \"ZAR\": {            \"ID\": \"R01810\",            \"NumCode\": \"710\",            \"CharCode\": \"ZAR\",            \"Nominal\": 10,            \"Name\": \"Южноафриканских рэндов\",            \"Value\": 34.9824,            \"Previous\": 34.8487        },        \"KRW\": {            \"ID\": \"R01815\",            \"NumCode\": \"410\",            \"CharCode\": \"KRW\",            \"Nominal\": 1000,            \"Name\": \"Вон Республики Корея\",            \"Value\": 45.5526,            \"Previous\": 45.675        },        \"JPY\": {            \"ID\": \"R01820\",            \"NumCode\": \"392\",            \"CharCode\": \"JPY\",            \"Nominal\": 100,            \"Name\": \"Японских иен\",            \"Value\": 43.2652,            \"Previous\": 42.273        }    }}'"
   ]
  },
  {
   "cell_type": "code",
   "execution_count": 12,
   "id": "97d9b1ba",
   "metadata": {},
   "outputs": [],
   "source": [
    "class Rate:\n",
    "    \n",
    "    def __init__(self, format_ = 'value', diff = False):\n",
    "        self.format = format_\n",
    "        self.diff = diff\n",
    "\n",
    "\n",
    "    def exchange_rates(self):\n",
    "        return json.loads(data)['Valute']\n",
    "\n",
    "    def make_format(self, currency):\n",
    "        response = self.exchange_rates()\n",
    "\n",
    "        if currency in response:\n",
    "            if self.format == 'full':\n",
    "                return response[currency]\n",
    "\n",
    "            if self.format == 'value':\n",
    "                if not self.diff:\n",
    "                    return response[currency]['Value']\n",
    "                else:\n",
    "                    return response[currency]['Value'] - response[currency]['Previous']\n",
    "\n",
    "            if self.format == 'currency_name':\n",
    "                return response[currency]['Name']\n",
    "\n",
    "        return 'Error'\n",
    "\n",
    "    def eur(self):\n",
    "        \"\"\"Возвращает курс евро на сегодня в формате self.format если diff=False, иначе - изменение\"\"\"\n",
    "        return self.make_format('EUR')\n",
    "\n",
    "    def usd(self):\n",
    "        \"\"\"Возвращает курс доллара на сегодня в формате self.format, иначе - изменение\"\"\"\n",
    "        return self.make_format('USD')"
   ]
  },
  {
   "cell_type": "code",
   "execution_count": 13,
   "id": "8713ea84",
   "metadata": {},
   "outputs": [
    {
     "name": "stdout",
     "output_type": "stream",
     "text": [
      "{'ID': 'R01235', 'NumCode': '840', 'CharCode': 'USD', 'Nominal': 1, 'Name': 'Доллар США', 'Value': 60.3982, 'Previous': 60.2179}\n"
     ]
    }
   ],
   "source": [
    "print (Rate(format_='full',diff=False).make_format('USD'))"
   ]
  },
  {
   "cell_type": "code",
   "execution_count": 14,
   "id": "5f8f6148",
   "metadata": {},
   "outputs": [
    {
     "name": "stdout",
     "output_type": "stream",
     "text": [
      "======================================= test session starts =======================================\n",
      "platform win32 -- Python 3.9.12, pytest-7.1.1, pluggy-1.0.0 -- C:\\Users\\Sonik\\anaconda3\\python.exe\n",
      "cachedir: .pytest_cache\n",
      "rootdir: C:\\Users\\Sonik\\Desktop\\Магистратура\\Питон\\Домашки\n",
      "plugins: anyio-3.5.0, mock-3.10.0\n",
      "collecting ... collected 1 item\n",
      "\n",
      "t_5ff3b62b3df0470eae0f7314444c1ffb.py::test[usd0] PASSED                                     [100%]\n",
      "\n",
      "======================================== 1 passed in 0.04s ========================================\n"
     ]
    }
   ],
   "source": [
    "%%ipytest\n",
    "\n",
    "@pytest.fixture\n",
    "def usd(request):\n",
    "    data = (Rate(format_=request.param[0][0],diff=request.param[0][1]).make_format('USD'),\n",
    "            Rate(format_=request.param[1][0],diff=request.param[1][1]).make_format('USD'),\n",
    "            Rate(format_=request.param[2][0],diff=request.param[2][1]).make_format('USD'),\n",
    "            Rate(format_=request.param[3][0],diff=request.param[3][1]).make_format('USD'))\n",
    "    return data\n",
    "\n",
    "@pytest.mark.parametrize('usd', [[('value', False),('value', True),('full', True),('full', False)]], indirect=['usd'])\n",
    "def test(usd):\n",
    "    assert usd[0] == 60.3982\n",
    "    assert usd[1] == 0.18030000000000257\n",
    "    assert usd[2] == {'ID': 'R01235', 'NumCode': '840', 'CharCode': 'USD', 'Nominal': 1, 'Name': 'Доллар США', 'Value': 60.3982, 'Previous': 60.2179}\n",
    "    assert usd[3] == {'ID': 'R01235', 'NumCode': '840', 'CharCode': 'USD', 'Nominal': 1, 'Name': 'Доллар США', 'Value': 60.3982, 'Previous': 60.2179}\n",
    "    "
   ]
  }
 ],
 "metadata": {
  "kernelspec": {
   "display_name": "Python 3 (ipykernel)",
   "language": "python",
   "name": "python3"
  },
  "language_info": {
   "codemirror_mode": {
    "name": "ipython",
    "version": 3
   },
   "file_extension": ".py",
   "mimetype": "text/x-python",
   "name": "python",
   "nbconvert_exporter": "python",
   "pygments_lexer": "ipython3",
   "version": "3.9.12"
  }
 },
 "nbformat": 4,
 "nbformat_minor": 5
}
