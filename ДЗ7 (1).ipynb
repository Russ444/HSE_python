{
 "cells": [
  {
   "cell_type": "code",
   "execution_count": 1,
   "id": "0da03af1",
   "metadata": {},
   "outputs": [
    {
     "name": "stdout",
     "output_type": "stream",
     "text": [
      "Китайских юаней\n"
     ]
    }
   ],
   "source": [
    "import requests\n",
    "\n",
    "def max_course():\n",
    "    \"\"\"\n",
    "    Функция выводит на экран наименование валюты с максимальным курсом.\n",
    "    \"\"\" \n",
    "    \n",
    "    data = requests.get('https://www.cbr-xml-daily.ru/daily_json.js').json()\n",
    "    valutes = data['Valute']\n",
    "    dict_courses = {}\n",
    "    \n",
    "    for i in valutes.values():\n",
    "        dict_courses[i['Value']] = i['Name']\n",
    "    \n",
    "    courses = []\n",
    "    for course in dict_courses.keys():\n",
    "        courses.append(course)\n",
    "    \n",
    "    print(dict_courses[max(courses)])\n",
    "\n",
    "max_course()"
   ]
  },
  {
   "cell_type": "code",
   "execution_count": 60,
   "id": "1ad2f35d",
   "metadata": {},
   "outputs": [],
   "source": [
    "import requests\n",
    "\n",
    "class Rate:\n",
    "    def __init__(self, format_ = 'value', diff = False):\n",
    "        self.format = format_\n",
    "        self.diff = diff\n",
    "\n",
    "\n",
    "    def exchange_rates(self):\n",
    "        self.r = requests.get('https://www.cbr-xml-daily.ru/daily_json.js')\n",
    "        return self.r.json()['Valute']\n",
    "\n",
    "    def make_format(self, currency):\n",
    "        response = self.exchange_rates()\n",
    "\n",
    "        if currency in response:\n",
    "            if self.format == 'full':\n",
    "                return response[currency]\n",
    "\n",
    "            if self.format == 'value':\n",
    "                if not self.diff:\n",
    "                    return response[currency]['Value']\n",
    "                else:\n",
    "                    return response[currency]['Value'] - response[currency]['Previous']\n",
    "\n",
    "            if self.format == 'currency_name':\n",
    "                return response[currency]['Name']\n",
    "\n",
    "        return 'Error'\n",
    "\n",
    "    def eur(self):\n",
    "        \"\"\"Возвращает курс евро на сегодня в формате self.format если diff=False, иначе - изменение\"\"\"\n",
    "        return self.make_format('EUR')\n",
    "\n",
    "    def usd(self):\n",
    "        \"\"\"Возвращает курс доллара на сегодня в формате self.format, иначе - изменение\"\"\"\n",
    "        return self.make_format('USD')\n",
    "\n",
    "\n"
   ]
  },
  {
   "cell_type": "code",
   "execution_count": 62,
   "id": "ba6f838c",
   "metadata": {},
   "outputs": [
    {
     "name": "stdout",
     "output_type": "stream",
     "text": [
      "Доллар США\n",
      "Изменение по сравнению c прошлым значением -0.264\n"
     ]
    }
   ],
   "source": [
    "print (Rate(format_='currency_name').make_format('USD'))\n",
    "print (\"Изменение по сравнению c прошлым значением {:.3f}\".format(Rate(diff=True).usd()))"
   ]
  },
  {
   "cell_type": "code",
   "execution_count": 53,
   "id": "32f64386",
   "metadata": {},
   "outputs": [],
   "source": [
    "class Employee:\n",
    "    def __init__(self, name, seniority, awards):\n",
    "        self.name = name\n",
    "        self.seniority = seniority\n",
    "        self.awards = awards\n",
    "        self.grade = 1\n",
    "    \n",
    "    def grade_up(self):\n",
    "        \"\"\"Повышает уровень сотрудника\"\"\"\n",
    "        self.grade += 1\n",
    "    \n",
    "    def publish_grade(self):\n",
    "        \"\"\"Публикация результатов аккредитации сотрудников\"\"\"\n",
    "        print(self.name, self.grade)\n",
    "        \n",
    "    def check_if_it_is_time_for_upgrade(self):\n",
    "        pass\n",
    "        \n",
    "class Developer(Employee):\n",
    "    def __init__(self, name, seniority, awards=0):\n",
    "        super().__init__(name, seniority, awards=0)\n",
    "    \n",
    "    def check_if_it_is_time_for_upgrade(self):\n",
    "        # для каждой аккредитации увеличиваем счетчик на 1\n",
    "        # пока считаем, что все разработчики проходят аккредитацию\n",
    "        self.seniority += 1\n",
    "        \n",
    "        # условие повышения сотрудника из презентации\n",
    "        if self.seniority % 5 == 0:\n",
    "            self.grade_up()\n",
    "        \n",
    "        # публикация результатов\n",
    "        return self.publish_grade()        \n",
    "        \n",
    "        \n",
    "class Designer(Employee):\n",
    "    def __init__(self, name, seniority, awards):\n",
    "        super().__init__(name, seniority, awards)\n",
    "    \n",
    "    def check_if_it_is_time_for_upgrade(self):\n",
    "        if self.seniority == 0:\n",
    "            self.seniority = 1 + self.awards * 2\n",
    "        else:\n",
    "            self.seniority += 1\n",
    "            \n",
    "        if self.seniority % 7 == 0:\n",
    "            self.grade_up()\n",
    "        \n",
    "        return self.publish_grade()     "
   ]
  },
  {
   "cell_type": "code",
   "execution_count": 54,
   "id": "b10efdf7",
   "metadata": {},
   "outputs": [],
   "source": [
    "elena = Designer('Елена', seniority=0, awards=2)"
   ]
  },
  {
   "cell_type": "code",
   "execution_count": 55,
   "id": "4d470019",
   "metadata": {},
   "outputs": [
    {
     "name": "stdout",
     "output_type": "stream",
     "text": [
      "Елена 1\n",
      "Елена 1\n",
      "Елена 2\n",
      "Елена 2\n",
      "Елена 2\n",
      "Елена 2\n",
      "Елена 2\n",
      "Елена 2\n",
      "Елена 2\n",
      "Елена 3\n",
      "Елена 3\n",
      "Елена 3\n",
      "Елена 3\n",
      "Елена 3\n",
      "Елена 3\n",
      "Елена 3\n",
      "Елена 4\n",
      "Елена 4\n",
      "Елена 4\n",
      "Елена 4\n"
     ]
    }
   ],
   "source": [
    "for i in range(20):\n",
    "    elena.check_if_it_is_time_for_upgrade()"
   ]
  }
 ],
 "metadata": {
  "kernelspec": {
   "display_name": "Python 3 (ipykernel)",
   "language": "python",
   "name": "python3"
  },
  "language_info": {
   "codemirror_mode": {
    "name": "ipython",
    "version": 3
   },
   "file_extension": ".py",
   "mimetype": "text/x-python",
   "name": "python",
   "nbconvert_exporter": "python",
   "pygments_lexer": "ipython3",
   "version": "3.9.12"
  }
 },
 "nbformat": 4,
 "nbformat_minor": 5
}
