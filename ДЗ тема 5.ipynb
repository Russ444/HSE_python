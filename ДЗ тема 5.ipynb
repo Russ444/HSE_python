{
 "cells": [
  {
   "cell_type": "code",
   "execution_count": 129,
   "id": "51e618c4",
   "metadata": {},
   "outputs": [
    {
     "name": "stdout",
     "output_type": "stream",
     "text": [
      "purchases:\n",
      "1840e0b9d4 'Продукты'\n",
      "4e4f90fcfb 'Электроника'\n"
     ]
    }
   ],
   "source": [
    "import json\n",
    "\n",
    "purchases = {}\n",
    "\n",
    "with open('purchase_log.txt', encoding='utf-8') as f:\n",
    "    i = 0\n",
    "    for line in f:\n",
    "        i += 1\n",
    "        if i > 1:\n",
    "            line = line.strip()\n",
    "            dict_ = json.loads(line)\n",
    "        \n",
    "            key = dict_['user_id']\n",
    "            value = dict_['category']\n",
    "            purchases[key] = value\n",
    "\n",
    "print('purchases:')\n",
    "i = 0\n",
    "for key, value in purchases.items():\n",
    "    i += 1\n",
    "    print(f\"{key} '{value}'\")\n",
    "    if i > 1:\n",
    "        break\n",
    "        "
   ]
  },
  {
   "cell_type": "code",
   "execution_count": 130,
   "id": "5a562d0b",
   "metadata": {},
   "outputs": [],
   "source": [
    "with open('visit_log.csv', 'r') as f, open('funnel.csv', 'w') as f_v:\n",
    "    for line in f:\n",
    "        line_list = line.strip().split(',')\n",
    "        if line_list[0] in purchases.keys():\n",
    "            line_list.append(purchases[line_list[0]])\n",
    "            funnel_line=','.join(line_list)\n",
    "            f_v.write(funnel_line+'\\n')\n",
    "    \n",
    "        if line_list[0] == 'user_id':\n",
    "            line_list.append('category')\n",
    "            funnel_line = ','.join(line_list)\n",
    "            f_v.write(funnel_line+'\\n')\n",
    "        "
   ]
  },
  {
   "cell_type": "code",
   "execution_count": 132,
   "id": "f1acab6a",
   "metadata": {},
   "outputs": [
    {
     "name": "stdout",
     "output_type": "stream",
     "text": [
      "user_id,source,category\n",
      "1840e0b9d4,other,Продукты\n",
      "4e4f90fcfb,context,Электроника\n",
      "afea8d72fc,other,Электроника\n"
     ]
    }
   ],
   "source": [
    "f = open('funnel.csv', 'r')\n",
    "\n",
    "i = 0\n",
    "for line in f:\n",
    "    line = line.strip()\n",
    "    print(line)\n",
    "    i += 1\n",
    "    if i > 3:\n",
    "        break\n",
    "        "
   ]
  },
  {
   "cell_type": "code",
   "execution_count": null,
   "id": "24ef8436",
   "metadata": {},
   "outputs": [],
   "source": []
  }
 ],
 "metadata": {
  "kernelspec": {
   "display_name": "Python 3 (ipykernel)",
   "language": "python",
   "name": "python3"
  },
  "language_info": {
   "codemirror_mode": {
    "name": "ipython",
    "version": 3
   },
   "file_extension": ".py",
   "mimetype": "text/x-python",
   "name": "python",
   "nbconvert_exporter": "python",
   "pygments_lexer": "ipython3",
   "version": "3.9.12"
  }
 },
 "nbformat": 4,
 "nbformat_minor": 5
}
